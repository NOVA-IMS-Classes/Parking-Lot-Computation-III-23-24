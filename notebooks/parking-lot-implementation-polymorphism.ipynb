{
 "cells": [
  {
   "cell_type": "markdown",
   "id": "27b9f0fe-8a7b-4999-b033-f8346d47049a",
   "metadata": {},
   "source": [
    "# Some TODOS for L07\n",
    "\n",
    "- Define the remaining MotorBike objects\n",
    "- Explore polymorphism and duck typing\n",
    "- Modify base class to redesign public/private attributes (see slides)\n",
    "- Set up an abstract method in the base class (as a decorator)\n",
    "- Check parameters with own-defined getters and setters (as decorators)\n",
    "- Set up errors where we were previously printing messages"
   ]
  },
  {
   "cell_type": "markdown",
   "id": "c1c8aa5f",
   "metadata": {
    "jp-MarkdownHeadingCollapsed": true
   },
   "source": [
    "# ``BaseVehicle`` Implementation"
   ]
  },
  {
   "cell_type": "code",
   "execution_count": 1,
   "id": "e046ebb7",
   "metadata": {},
   "outputs": [],
   "source": [
    "class BaseVehicle:\n",
    "    \n",
    "    wheel_count = None\n",
    "    parked_days = 0\n",
    "    is_parked = False\n",
    "    cleaning_cost = 0\n",
    "    \n",
    "    def __init__(self, name, year, kms, fuel, color, state, quality, size):  \n",
    "        # This is the constructor\n",
    "        # __init__ is a special method (notice the two underscores)\n",
    "        # 'self' refers to an instantiated object of the class\n",
    "        self.name = name \n",
    "        self.year = year \n",
    "        self.kms = kms \n",
    "        self.fuel = fuel \n",
    "        self.color = color \n",
    "        self.state = state \n",
    "        self.quality = quality \n",
    "        self.size = size\n",
    "        \n",
    "        self.can_park_indoors = self.fuel != \"GPL\"\n",
    "        \n",
    "    def drive(self, kms):\n",
    "        # The two lines below amount to the same result\n",
    "        # self.kms += kms\n",
    "        # self.kms = self.kms + kms\n",
    "        self.kms += kms\n",
    "        return self\n",
    "    \n",
    "    def get_parking_cost(self, indoors=True):\n",
    "        \n",
    "        # Daily parking cost according to different specifications\n",
    "        cost_quality = {\"low\": 2, \"medium\": 3, \"high\": 4}\n",
    "        cost_size = {\"small\": 2, \"large\": 4}\n",
    "        cost_maintenance = 2 if indoors else 0\n",
    "        \n",
    "        # Compute total cost using the criteria defined above\n",
    "        total_cost = (\n",
    "            cost_size[self.size.lower().strip()]\n",
    "            + cost_quality[self.quality.lower().strip()]\n",
    "            + cost_maintenance\n",
    "        ) * self.parked_days + self.cleaning_cost\n",
    "        \n",
    "        return total_cost\n",
    "    \n",
    "    def park_vehicle(self, indoors=True):\n",
    "        \n",
    "        if indoors and (not self.can_park_indoors):\n",
    "            print(\"The car cannot park indoors!\")\n",
    "            return self\n",
    "        \n",
    "        if not self.is_parked:\n",
    "            self.drive(.1)\n",
    "            self.parked_days += 1\n",
    "            self.is_parked = True\n",
    "        else:\n",
    "            print(\"The car is already parked!\")\n",
    "        \n",
    "        return self\n",
    "    \n",
    "    def return_vehicle(self):\n",
    "        self.is_parked = False\n",
    "        return self\n",
    "    \n",
    "    \n",
    "    def __repr__(self):\n",
    "        representation = (\n",
    "            f\"{self.__class__.__name__}(\"\n",
    "            f\"{self.color} {self.name} from {self.year}, \"\n",
    "            f\"with {self.kms} Kms, {self.quality} quality\"\n",
    "            \")\"\n",
    "        )\n",
    "        return representation"
   ]
  },
  {
   "cell_type": "markdown",
   "id": "5172e9dd-e479-42c7-a761-49267f8c1acc",
   "metadata": {
    "jp-MarkdownHeadingCollapsed": true
   },
   "source": [
    "# ``Car`` Implementation"
   ]
  },
  {
   "cell_type": "code",
   "execution_count": 2,
   "id": "638a34f9",
   "metadata": {},
   "outputs": [],
   "source": [
    "class Car(BaseVehicle):\n",
    "    \n",
    "    wheel_count = 4\n",
    "\n",
    "    def wash_inside(self):\n",
    "        cost_size = {\"small\": 4, \"large\": 8}\n",
    "        self.cleaning_cost += cost_size[self.size.lower().strip()]\n",
    "        return self\n",
    "    \n",
    "    def wash_outside(self):\n",
    "        cost_state = {\"new\": 3, \"good\": 5, \"worn\": 7}\n",
    "        self.cleaning_cost += cost_state[self.state.lower().strip()]\n",
    "        return self\n",
    "    \n",
    "    def clean_windshield(self):\n",
    "        self.cleaning_cost += 2\n",
    "        return self\n"
   ]
  },
  {
   "cell_type": "markdown",
   "id": "6933a63e",
   "metadata": {
    "jp-MarkdownHeadingCollapsed": true
   },
   "source": [
    "# ``MotorBike`` and ``Moto4`` Implementation"
   ]
  },
  {
   "cell_type": "code",
   "execution_count": 3,
   "id": "6175e827",
   "metadata": {},
   "outputs": [],
   "source": [
    "class MotorBike(BaseVehicle):\n",
    "    \n",
    "    wheel_count = 2\n",
    "\n",
    "    def __init__(self, name, year, kms, color, state, quality):\n",
    "        # We are excluding size and fuel from the parameters\n",
    "        super().__init__(\n",
    "            name, year, kms, \"gas\", color, state, quality, \"small\"\n",
    "        )\n",
    "\n",
    "    # This would override __repr__\n",
    "    # def __repr__(self):\n",
    "    #     representation = (\n",
    "    #         \"MotorBike(\"\n",
    "    #         f\"{self.color} {self.name} from {self.year}, \"\n",
    "    #         f\"with {self.kms} Kms, {self.quality} quality\"\n",
    "    #         \")\"\n",
    "    #     )\n",
    "    #     return representation\n",
    "        "
   ]
  },
  {
   "cell_type": "code",
   "execution_count": 4,
   "id": "460c186c",
   "metadata": {},
   "outputs": [],
   "source": [
    "class Moto4(MotorBike):\n",
    "    wheel_count = 4\n",
    "    def __init__(self, name, year, kms, color, state, quality):\n",
    "        # We are excluding size and fuel from the parameters\n",
    "        super().__init__(\n",
    "            name, year, kms, color, state, quality\n",
    "        )\n",
    "        self.size = \"medium\""
   ]
  },
  {
   "cell_type": "markdown",
   "id": "4b8ff0d4",
   "metadata": {
    "jp-MarkdownHeadingCollapsed": true
   },
   "source": [
    "# Instantiating and testing ``Car`` objects"
   ]
  },
  {
   "cell_type": "code",
   "execution_count": 5,
   "id": "f950807b",
   "metadata": {},
   "outputs": [],
   "source": [
    "honda_jazz = {\n",
    "    \"name\": \"Honda Jazz\",\n",
    "    \"year\": 2003,\n",
    "    \"fuel\": \"GPL\", \n",
    "    \"kms\": 250_000,\n",
    "    \"color\": \"Red\",\n",
    "    \"state\": \"Good\", \n",
    "    \"quality\": \"Low\",\n",
    "    \"size\": \"Small\",\n",
    "}\n",
    "\n",
    "beetle = {\n",
    "    \"name\": \"VW Beetle \",\n",
    "    \"year\": 1962,\n",
    "    \"fuel\": \"Gas\", \n",
    "    \"kms\": 405_000,\n",
    "    \"color\": \"Orange\", \n",
    "    \"state\": \"Worn\", \n",
    "    \"quality\": \"Classic\", \n",
    "    \"size\": \"Small\",\n",
    "}\n",
    "\n",
    "truck = {\n",
    "    \"name\": \"Ford F-150\",\n",
    "    \"year\": 2023,\n",
    "    \"fuel\": \"Diesel\",\n",
    "    \"kms\": 5000,\n",
    "    \"color\": \"Dark Blue\",\n",
    "    \"state\": \"New\",\n",
    "    \"quality\": \"Medium\",\n",
    "    \"size\": \"Big\",\n",
    "} \n",
    "\n",
    "cool_car = Car(\n",
    "    \"Honda Jazz\",\n",
    "    year=2003,\n",
    "    kms=250_000, \n",
    "    fuel=\"GPL\", \n",
    "    color=\"Red\", \n",
    "    state=\"Good\", \n",
    "    quality=\"Low\", \n",
    "    size=\"Small\"\n",
    ")"
   ]
  },
  {
   "cell_type": "code",
   "execution_count": 6,
   "id": "4d507a20",
   "metadata": {},
   "outputs": [
    {
     "data": {
      "text/plain": [
       "[Car(Red Honda Jazz from 2003, with 250000 Kms, Low quality),\n",
       " Car(Orange VW Beetle  from 1962, with 405000 Kms, Classic quality),\n",
       " Car(Dark Blue Ford F-150 from 2023, with 5000 Kms, Medium quality)]"
      ]
     },
     "execution_count": 6,
     "metadata": {},
     "output_type": "execute_result"
    }
   ],
   "source": [
    "all_cars_details = [honda_jazz, beetle, truck]\n",
    "all_cars_details\n",
    "cars = []\n",
    "for car_parameters in all_cars_details:\n",
    "    vehicle = Car(**car_parameters)\n",
    "    cars.append(vehicle)\n",
    "\n",
    "cars"
   ]
  },
  {
   "cell_type": "code",
   "execution_count": 7,
   "id": "9c4e580f",
   "metadata": {},
   "outputs": [
    {
     "name": "stdout",
     "output_type": "stream",
     "text": [
      "0\n",
      "parking cost 0\n",
      "1\n"
     ]
    }
   ],
   "source": [
    "print(cool_car.parked_days)\n",
    "print(\"parking cost\", cool_car.get_parking_cost(indoors=False))\n",
    "cool_car.park_vehicle(indoors=False)\n",
    "print(cool_car.parked_days)\n",
    "\n",
    "if cool_car.is_parked:\n",
    "    cool_car.parked_days += 1"
   ]
  },
  {
   "cell_type": "code",
   "execution_count": 8,
   "id": "e12b075b",
   "metadata": {},
   "outputs": [
    {
     "data": {
      "text/plain": [
       "8"
      ]
     },
     "execution_count": 8,
     "metadata": {},
     "output_type": "execute_result"
    }
   ],
   "source": [
    "cool_car.get_parking_cost(indoors=False)"
   ]
  },
  {
   "cell_type": "code",
   "execution_count": 9,
   "id": "f13b2829",
   "metadata": {},
   "outputs": [
    {
     "name": "stdout",
     "output_type": "stream",
     "text": [
      "cleaning cost 0\n"
     ]
    },
    {
     "data": {
      "text/plain": [
       "4"
      ]
     },
     "execution_count": 9,
     "metadata": {},
     "output_type": "execute_result"
    }
   ],
   "source": [
    "print(\"cleaning cost\", cool_car.cleaning_cost)\n",
    "cool_car.wash_inside()\n",
    "cool_car.cleaning_cost"
   ]
  },
  {
   "cell_type": "code",
   "execution_count": 10,
   "id": "d37987a8",
   "metadata": {},
   "outputs": [
    {
     "data": {
      "text/plain": [
       "12"
      ]
     },
     "execution_count": 10,
     "metadata": {},
     "output_type": "execute_result"
    }
   ],
   "source": [
    "cool_car.get_parking_cost(indoors=False)"
   ]
  },
  {
   "cell_type": "code",
   "execution_count": 11,
   "id": "41091cc5-1252-4479-a0c0-26936b77ee98",
   "metadata": {},
   "outputs": [
    {
     "data": {
      "text/plain": [
       "[Car(Red Honda Jazz from 2003, with 250000 Kms, Low quality),\n",
       " Car(Orange VW Beetle  from 1962, with 405000 Kms, Classic quality),\n",
       " Car(Dark Blue Ford F-150 from 2023, with 5000 Kms, Medium quality)]"
      ]
     },
     "execution_count": 11,
     "metadata": {},
     "output_type": "execute_result"
    }
   ],
   "source": [
    "# Alternatively, we can use a list comprehension\n",
    "all_cars_details = [honda_jazz, beetle, truck]\n",
    "cars = [Car(**car_parameters) for car_parameters in all_cars_details]\n",
    "cars"
   ]
  },
  {
   "cell_type": "code",
   "execution_count": 12,
   "id": "12bbd5a5",
   "metadata": {},
   "outputs": [
    {
     "data": {
      "text/plain": [
       "__main__.Car"
      ]
     },
     "execution_count": 12,
     "metadata": {},
     "output_type": "execute_result"
    }
   ],
   "source": [
    "# The type of our instantiated car\n",
    "type(cool_car)"
   ]
  },
  {
   "cell_type": "code",
   "execution_count": 13,
   "id": "fe204030",
   "metadata": {},
   "outputs": [
    {
     "data": {
      "text/plain": [
       "'Honda Jazz'"
      ]
     },
     "execution_count": 13,
     "metadata": {},
     "output_type": "execute_result"
    }
   ],
   "source": [
    "# Calling an attribute from our object\n",
    "cool_car.name"
   ]
  },
  {
   "cell_type": "code",
   "execution_count": 14,
   "id": "57d9a251",
   "metadata": {
    "scrolled": true
   },
   "outputs": [
    {
     "data": {
      "text/plain": [
       "False"
      ]
     },
     "execution_count": 14,
     "metadata": {},
     "output_type": "execute_result"
    }
   ],
   "source": [
    "cool_car.can_park_indoors"
   ]
  },
  {
   "cell_type": "code",
   "execution_count": 15,
   "id": "89a76866",
   "metadata": {},
   "outputs": [
    {
     "name": "stdout",
     "output_type": "stream",
     "text": [
      "Number of kms before driving the car: 250000.1\n",
      "Number of kms after driving the car: 250100.1\n"
     ]
    }
   ],
   "source": [
    "print(\"Number of kms before driving the car:\", cool_car.kms)\n",
    "cool_car.drive(kms=100)\n",
    "print(\"Number of kms after driving the car:\", cool_car.kms)"
   ]
  },
  {
   "cell_type": "markdown",
   "id": "afecbcb6-5daa-44ae-8784-9ed74b3deed1",
   "metadata": {
    "jp-MarkdownHeadingCollapsed": true
   },
   "source": [
    "# Instantiating and testing ``MotorBike`` and ``Moto4`` objects    "
   ]
  },
  {
   "cell_type": "code",
   "execution_count": 16,
   "id": "7b20f5cb",
   "metadata": {},
   "outputs": [
    {
     "data": {
      "text/plain": [
       "Moto4(Yellow Suzuki from 2011, with 2500 Kms, Low quality)"
      ]
     },
     "execution_count": 16,
     "metadata": {},
     "output_type": "execute_result"
    }
   ],
   "source": [
    "moto4_details = {\n",
    "    \"name\": \"Suzuki\",\n",
    "    \"year\": 2011,\n",
    "    \"kms\": 2_500,\n",
    "    \"color\": \"Yellow\",\n",
    "    \"state\": \"Good\",\n",
    "    \"quality\": \"Low\"\n",
    "}\n",
    "    \n",
    "your_moto4 = Moto4(\n",
    "    **moto4_details\n",
    ")\n",
    "your_moto4"
   ]
  },
  {
   "cell_type": "code",
   "execution_count": 17,
   "id": "9b2f05ee",
   "metadata": {},
   "outputs": [],
   "source": [
    "bike_details = {\n",
    "    \"name\": \"Honda CB350\",\n",
    "    \"year\": 2021,\n",
    "    \"kms\": 5_500,\n",
    "    \"color\": \"Red\",\n",
    "    \"state\": \"New\",\n",
    "    \"quality\": \"Medium\"\n",
    "}\n",
    "    \n",
    "my_bike = MotorBike(\n",
    "    **bike_details\n",
    ")"
   ]
  },
  {
   "cell_type": "code",
   "execution_count": 18,
   "id": "669a332f",
   "metadata": {},
   "outputs": [
    {
     "data": {
      "text/plain": [
       "'small'"
      ]
     },
     "execution_count": 18,
     "metadata": {},
     "output_type": "execute_result"
    }
   ],
   "source": [
    "my_bike.size"
   ]
  },
  {
   "cell_type": "code",
   "execution_count": 19,
   "id": "69b3cb73",
   "metadata": {},
   "outputs": [
    {
     "data": {
      "text/plain": [
       "MotorBike(Red Honda CB350 from 2021, with 5500 Kms, Medium quality)"
      ]
     },
     "execution_count": 19,
     "metadata": {},
     "output_type": "execute_result"
    }
   ],
   "source": [
    "my_bike"
   ]
  },
  {
   "cell_type": "markdown",
   "id": "773ef1c9-faa8-4a92-a401-d00cc3e92fb1",
   "metadata": {
    "jp-MarkdownHeadingCollapsed": true
   },
   "source": [
    "# Simple application of Polymorphism"
   ]
  },
  {
   "cell_type": "code",
   "execution_count": 20,
   "id": "39dd397f-7642-4257-8c84-cd7ea687634b",
   "metadata": {},
   "outputs": [
    {
     "data": {
      "text/plain": [
       "[MotorBike(Red Honda CB350 from 2021, with 5500 Kms, Medium quality),\n",
       " Moto4(Yellow Suzuki from 2011, with 2500 Kms, Low quality),\n",
       " Car(Red Honda Jazz from 2003, with 250000 Kms, Low quality),\n",
       " Car(Orange VW Beetle  from 1962, with 405000 Kms, Classic quality)]"
      ]
     },
     "execution_count": 20,
     "metadata": {},
     "output_type": "execute_result"
    }
   ],
   "source": [
    "vehicles = [\n",
    "    my_bike,\n",
    "    your_moto4,\n",
    "    *cars[:2]\n",
    "]\n",
    "vehicles"
   ]
  },
  {
   "cell_type": "code",
   "execution_count": 21,
   "id": "795b11df-b758-4f9c-9111-7f8b5ee2f9e5",
   "metadata": {},
   "outputs": [],
   "source": [
    "# Explore polymorphism and duck typing here"
   ]
  }
 ],
 "metadata": {
  "kernelspec": {
   "display_name": "Python 3 (ipykernel)",
   "language": "python",
   "name": "python3"
  },
  "language_info": {
   "codemirror_mode": {
    "name": "ipython",
    "version": 3
   },
   "file_extension": ".py",
   "mimetype": "text/x-python",
   "name": "python",
   "nbconvert_exporter": "python",
   "pygments_lexer": "ipython3",
   "version": "3.11.0"
  }
 },
 "nbformat": 4,
 "nbformat_minor": 5
}
